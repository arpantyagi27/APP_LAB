{
 "cells": [
  {
   "cell_type": "code",
   "execution_count": null,
   "id": "0a5d0c7d",
   "metadata": {},
   "outputs": [
    {
     "ename": "",
     "evalue": "",
     "output_type": "error",
     "traceback": [
      "\u001b[1;31mFailed to start the Kernel. \n",
      "Canceled. \n",
      "View Jupyter <a href='command:jupyter.viewOutput'>log</a> for further details."
     ]
    }
   ],
   "source": [
    "#que 8\n",
    "class Triangle:\n",
    "    def _init_(self,x,y,z):\n",
    "        self.s1=x\n",
    "        self.s2=y\n",
    "        self.s3=z\n",
    "    def area(self):\n",
    "        s=(self.s1+self.s2+self.s3)/2\n",
    "        print((s*(s-self.s1)*(s-self.s2)*(s-self.s3))**(1/2))\n",
    "    def peri(self):\n",
    "        print(self.s1+self.s2+self.s3)\n",
    "t1=Triangle(3,4,5)\n",
    "t1.area()\n",
    "t1.peri()\n"
   ]
  },
  {
   "cell_type": "code",
   "execution_count": 3,
   "id": "978b3f7a",
   "metadata": {},
   "outputs": [
    {
     "name": "stdout",
     "output_type": "stream",
     "text": [
      "The time is 1 hours and 14 minutes\n",
      "The sum time is 6 hours and 10 minutes\n"
     ]
    }
   ],
   "source": [
    "#que 7\n",
    "class time:\n",
    "    def __init__(self,hours,minutes):\n",
    "        self.hours=hours\n",
    "        self.minutes=minutes\n",
    "    def addTime(self,other):\n",
    "        print(f\"The sum time is {self.hours+other.hours} hours and {self.minutes+other.minutes} minutes\")\n",
    "    def displayTime(self):\n",
    "        print(f\"The time is {self.hours} hours and {self.minutes} minutes\")\n",
    "    def DisplayMinute(self):\n",
    "              print(f\"{self.hours*60} minute\")\n",
    "t2=time(1,14)\n",
    "t2.displayTime()\n",
    "t1=time(1,5)\n",
    "t3=time(5,5)\n",
    "t1.addTime(t3)"
   ]
  },
  {
   "cell_type": "code",
   "execution_count": 4,
   "id": "a4090070",
   "metadata": {},
   "outputs": [
    {
     "name": "stdout",
     "output_type": "stream",
     "text": [
      "The student name is Rohan\n",
      "The student name is SCO\n"
     ]
    }
   ],
   "source": [
    "#que3\n",
    "class DEPT:\n",
    "    def __init__(self, studentName = 'SCO'):\n",
    "        self.student = studentName\n",
    "    def get(self):\n",
    "        print(f\"The student name is {self.student}\")\n",
    "\n",
    "s1 = DEPT('Rohan')\n",
    "s1.get()\n",
    "s2 = DEPT()\n",
    "s2.get()"
   ]
  },
  {
   "cell_type": "code",
   "execution_count": 5,
   "id": "a23dc91b",
   "metadata": {},
   "outputs": [
    {
     "name": "stdout",
     "output_type": "stream",
     "text": [
      " is instance: True\n",
      "subclas: (<class 'object'>,)\n",
      " is instance: True\n",
      "subclas: (<class 'object'>,)\n",
      " is instance: True\n",
      "subclas: (<class 'object'>,)\n",
      " is instance: False\n",
      "subclas: (<class 'object'>,)\n"
     ]
    }
   ],
   "source": [
    "#que2\n",
    "class CTECH:\n",
    "    pass\n",
    "class CINTEL:\n",
    "    pass\n",
    "class NWC:\n",
    "    pass\n",
    "class DSBS:\n",
    "    pass\n",
    "c = CTECH()\n",
    "print(f\" is instance: {isinstance(c,CTECH)}\");\n",
    "print(f\"subclas: {CTECH.__bases__}\")\n",
    "\n",
    "ci = CINTEL()\n",
    "print(f\" is instance: {isinstance(ci,CINTEL)}\");\n",
    "print(f\"subclas: {CINTEL.__bases__}\")\n",
    "\n",
    "n = NWC()\n",
    "print(f\" is instance: {isinstance(n,NWC)}\");\n",
    "print(f\"subclas: {NWC.__bases__}\")\n",
    "\n",
    "d = DSBS()\n",
    "print(f\" is instance: {isinstance(c,DSBS)}\");\n",
    "print(f\"subclas: {DSBS.__bases__}\")"
   ]
  },
  {
   "cell_type": "code",
   "execution_count": 6,
   "id": "614785ff",
   "metadata": {},
   "outputs": [
    {
     "name": "stdout",
     "output_type": "stream",
     "text": [
      "CUB BANK:  15000\n",
      "HDFC BANK:  30000\n",
      "INDIAN BANK:  40000\n"
     ]
    }
   ],
   "source": [
    "#que6\n",
    "class Banks_SRMIST:\n",
    "    def __init__(self):\n",
    "        return 0\n",
    "    def getBalance(self):\n",
    "        return 0\n",
    "class CUB(Banks_SRMIST):\n",
    "    def __init__(self,a):\n",
    "        self.a=a\n",
    "    def getBalance(self):\n",
    "        print(\"CUB BANK: \",self.a)\n",
    "class HDFC(Banks_SRMIST):\n",
    "    def __init__(self,b):\n",
    "        self.b=b\n",
    "    def getBalance(self):\n",
    "        print(\"HDFC BANK: \",self.b)\n",
    "class Indian_Bank(Banks_SRMIST):\n",
    "    def __init__(self,c):\n",
    "        self.c=c\n",
    "    def getBalance(self):\n",
    "        print(\"INDIAN BANK: \",self.c)\n",
    "a1=CUB(15000)\n",
    "a2=HDFC(30000)\n",
    "a3=Indian_Bank(40000)\n",
    "a1.getBalance()\n",
    "a2.getBalance()\n",
    "a3.getBalance()"
   ]
  },
  {
   "cell_type": "code",
   "execution_count": 11,
   "id": "c0b2f81b",
   "metadata": {},
   "outputs": [
    {
     "name": "stdout",
     "output_type": "stream",
     "text": [
      "CS\n",
      "C\n",
      "D\n",
      "E\n",
      "90\n"
     ]
    }
   ],
   "source": [
    "class SRMIST:\n",
    "    def __init__(self,a,b,c,d,e,f):\n",
    "        self.school =a\n",
    "        self.dept1=b\n",
    "        self.dept2 =c\n",
    "        self.dept3=d\n",
    "        self.dept4 =e\n",
    "        self.dept5=f\n",
    "\n",
    "CS= SRMIST(\"CS\",\"A\",\"B\",\"C\",\"D\",\"E\")\n",
    "setattr(CS,\"s1\",90)\n",
    "delattr(CS,\"dept2\")\n",
    "delattr(CS,\"dept1\")\n",
    "print(getattr(CS,\"school\",))\n",
    "\n",
    "print(getattr(CS,\"dept3\",))\n",
    "print(getattr(CS,\"dept4\",))\n",
    "print(getattr(CS,\"dept5\",))\n",
    "print(getattr(CS,\"s1\",))\n"
   ]
  },
  {
   "cell_type": "code",
   "execution_count": null,
   "id": "ebfd3be9",
   "metadata": {},
   "outputs": [],
   "source": []
  }
 ],
 "metadata": {
  "kernelspec": {
   "display_name": "Python 3 (ipykernel)",
   "language": "python",
   "name": "python3"
  },
  "language_info": {
   "codemirror_mode": {
    "name": "ipython",
    "version": 3
   },
   "file_extension": ".py",
   "mimetype": "text/x-python",
   "name": "python",
   "nbconvert_exporter": "python",
   "pygments_lexer": "ipython3",
   "version": "3.9.7"
  }
 },
 "nbformat": 4,
 "nbformat_minor": 5
}
