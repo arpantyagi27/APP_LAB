{
 "cells": [
  {
   "cell_type": "code",
   "execution_count": 3,
   "id": "1bf6118a",
   "metadata": {},
   "outputs": [
    {
     "name": "stdout",
     "output_type": "stream",
     "text": [
      "[0, 1]\n"
     ]
    }
   ],
   "source": [
    "from functools import reduce\n",
    "fib_series = lambda n: reduce(lambda x, _: x+[x[-1]+x[-2]],range(n-2), [0, 1])\n",
    "print(fib_series(2)) "
   ]
  },
  {
   "cell_type": "code",
   "execution_count": 4,
   "id": "9d9ad07e",
   "metadata": {},
   "outputs": [
    {
     "name": "stdout",
     "output_type": "stream",
     "text": [
      "20 23 56 "
     ]
    }
   ],
   "source": [
    "str1=\"SOC 23 CTech 5 DSBS8 NWC 56 CINtel 20 5\"\n",
    "str1_list=[i for i in str1.split(\" \")]\n",
    "length=len(str1_list)\n",
    "num=sorted([int(i) for i in str1_list if i.isdigit()])\n",
    "for i in ((filter(lambda x:x>length,num))):\n",
    " print(i,end=\" \")"
   ]
  },
  {
   "cell_type": "code",
   "execution_count": 5,
   "id": "a649b066",
   "metadata": {},
   "outputs": [
    {
     "name": "stdout",
     "output_type": "stream",
     "text": [
      "['-500', '-12', '0', '4', '7', '12', '45', '100', '200']\n"
     ]
    }
   ],
   "source": [
    "def sort_numeric_strings(nums_str):\n",
    "    result = sorted(nums_str, key=lambda x: int(x))\n",
    "    return result\n",
    "nums_str = ['4','12','45','7','0','100','200','-12','-500']\n",
    "print(sort_numeric_strings(nums_str))"
   ]
  },
  {
   "cell_type": "code",
   "execution_count": 6,
   "id": "70249f88",
   "metadata": {},
   "outputs": [
    {
     "name": "stdout",
     "output_type": "stream",
     "text": [
      "4.0\n"
     ]
    }
   ],
   "source": [
    "from functools import reduce\n",
    "tuple1=(1,2,3,4,5,6,7)\n",
    "result=reduce(lambda x,y:x+y,tuple1)\n",
    "print(result/len(tuple1)) "
   ]
  },
  {
   "cell_type": "code",
   "execution_count": 7,
   "id": "ef19d936",
   "metadata": {},
   "outputs": [
    {
     "name": "stdout",
     "output_type": "stream",
     "text": [
      "[[12], [7, 11], [1, 5, 8]]\n"
     ]
    }
   ],
   "source": [
    "list1=[1, 2, 3, 4, 5, 6, 7, 8, 9, 10, 11, 12, 13, 14]\n",
    "list2=[[12, 18, 23, 25, 45], [7, 11, 19, 24, 28], [1, 5, 8, 18, 15, 16]]\n",
    "def intersection_nested_lists(l1, l2):\n",
    "    result = [list(filter(lambda x: x in l1, sublist)) \n",
    "for sublist in l2]\n",
    "    return result\n",
    "print(intersection_nested_lists(list1, list2)) "
   ]
  },
  {
   "cell_type": "code",
   "execution_count": 8,
   "id": "8d50466e",
   "metadata": {},
   "outputs": [
    {
     "name": "stdout",
     "output_type": "stream",
     "text": [
      "[['R', 'a', 'm'], ['R', 'e', 'x'], ['a', 'l', 'e', 'x'], ['s', 'a', 'm']]\n"
     ]
    }
   ],
   "source": [
    "list1=[\"Ram\",\"Rex\",\"alex\",\"sam\"]\n",
    "def convert(x):\n",
    "     return list(x)\n",
    "list2=list(map(convert,list1))\n",
    "print(list2) \n"
   ]
  },
  {
   "cell_type": "code",
   "execution_count": 9,
   "id": "d09097a8",
   "metadata": {},
   "outputs": [
    {
     "name": "stdout",
     "output_type": "stream",
     "text": [
      "[('A', 'a'), ('E', 'e'), ('B', 'b'), ('C', 'c')]\n"
     ]
    }
   ],
   "source": [
    "list1=['a','e','b','c']\n",
    "def change_case(x):\n",
    "     return str(x).upper(),str(x).lower()\n",
    "list2=list(map(change_case,list1))\n",
    "print(list2) "
   ]
  },
  {
   "cell_type": "code",
   "execution_count": 10,
   "id": "09bc094d",
   "metadata": {},
   "outputs": [
    {
     "name": "stdout",
     "output_type": "stream",
     "text": [
      "[11, 7, 26]\n",
      "[-9, 3, -4]\n"
     ]
    }
   ],
   "source": [
    "num1=[1,5,11]\n",
    "num2=[10,2,15]\n",
    "x=list(map(lambda x,y:x+y,num1,num2))\n",
    "y=list(map(lambda x,y:x-y,num1,num2))\n",
    "print(x)\n",
    "print(y) "
   ]
  },
  {
   "cell_type": "code",
   "execution_count": 36,
   "id": "723054ef",
   "metadata": {},
   "outputs": [
    {
     "name": "stdout",
     "output_type": "stream",
     "text": [
      "[18, 23, 32, 65]\n"
     ]
    }
   ],
   "source": [
    "def func(alpha):\n",
    "     if alpha>=18:\n",
    "        return True\n",
    "     else:\n",
    "        return False\n",
    "y=list(filter(func,[1,12,18,15,23,32,10,65]))\n",
    "print(y) "
   ]
  },
  {
   "cell_type": "code",
   "execution_count": 10,
   "id": "ec057828",
   "metadata": {},
   "outputs": [
    {
     "name": "stdout",
     "output_type": "stream",
     "text": [
      "['a', 'e']\n"
     ]
    }
   ],
   "source": [
    "def func(alpha):\n",
    "     if(alpha=='a' or alpha=='e' or alpha=='i' or alpha=='o' or alpha=='u'):\n",
    "        return True\n",
    "     else:\n",
    "        return False\n",
    "y=list(filter(func,['a','b','c','d','e']))\n",
    "print(y)"
   ]
  },
  {
   "cell_type": "code",
   "execution_count": 11,
   "id": "048c78af",
   "metadata": {},
   "outputs": [
    {
     "name": "stdout",
     "output_type": "stream",
     "text": [
      "110\n"
     ]
    }
   ],
   "source": [
    "from functools import reduce\n",
    "def maximum(x,y):\n",
    "     if(x>y):\n",
    "        return x\n",
    "     else:\n",
    "        return y\n",
    "y=reduce(maximum,[110,18,32,23,21])\n",
    "print(y)"
   ]
  },
  {
   "cell_type": "code",
   "execution_count": 12,
   "id": "aab67eb5",
   "metadata": {},
   "outputs": [
    {
     "name": "stdout",
     "output_type": "stream",
     "text": [
      "24\n"
     ]
    }
   ],
   "source": [
    "from functools import reduce\n",
    "def mul(x,y):\n",
    "     return x*y\n",
    "y=reduce(mul,range(1,5))\n",
    "print(y)"
   ]
  }
 ],
 "metadata": {
  "kernelspec": {
   "display_name": "Python 3 (ipykernel)",
   "language": "python",
   "name": "python3"
  },
  "language_info": {
   "codemirror_mode": {
    "name": "ipython",
    "version": 3
   },
   "file_extension": ".py",
   "mimetype": "text/x-python",
   "name": "python",
   "nbconvert_exporter": "python",
   "pygments_lexer": "ipython3",
   "version": "3.9.12"
  },
  "vscode": {
   "interpreter": {
    "hash": "ad2bdc8ecc057115af97d19610ffacc2b4e99fae6737bb82f5d7fb13d2f2c186"
   }
  }
 },
 "nbformat": 4,
 "nbformat_minor": 5
}
