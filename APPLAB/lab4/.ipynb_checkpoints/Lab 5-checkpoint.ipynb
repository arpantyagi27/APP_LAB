{
 "cells": [
  {
   "cell_type": "code",
   "execution_count": 3,
   "id": "1afdd2b8",
   "metadata": {
    "scrolled": true
   },
   "outputs": [
    {
     "name": "stdout",
     "output_type": "stream",
     "text": [
      "3\n",
      "1\n",
      "[(102, 'chicken masala')]\n",
      "[('p m',)]\n"
     ]
    }
   ],
   "source": [
    "from datetime import datetime\n",
    "import sqlite3\n",
    "\n",
    "connection = sqlite3.connect('Lab5q1.db')\n",
    "cursor = connection.cursor()\n",
    "\n",
    "cursor.execute(\"\"\"CREATE TABLE recipes (\n",
    "    name text,\n",
    "    description text,\n",
    "    category_id integer,\n",
    "    chef_id text,\n",
    "   created timestamp\n",
    ")\"\"\")\n",
    "\n",
    "time = datetime.now()\n",
    "recipes = [\n",
    "    (\"paneer masala\", \"p m\", 101, \"BL00001\", time),\n",
    "    (\"chicken masala\", \"c m\", 102, \"BL00002\", time),\n",
    "    (\"butter naan\", \"chinese\", 103, \"BL00003\", time),\n",
    "]\n",
    "\n",
    "cursor.executemany(\"INSERT INTO recipes VALUES (?, ?, ?, ?, ?)\", recipes)\n",
    "\n",
    "cursor.execute(\"SELECT * FROM recipes\")\n",
    "recipes = cursor.fetchall()\n",
    "print(len(recipes))\n",
    "\n",
    "\n",
    "cursor.execute(\"SELECT * FROM recipes WHERE description = 'chinese'\")\n",
    "recipes = cursor.fetchall()\n",
    "print(len(recipes))\n",
    "\n",
    "\n",
    "cursor.execute(\"SELECT category_id, name FROM recipes WHERE chef_id = 'BL00002'\")\n",
    "r = cursor.fetchall()\n",
    "print(r)\n",
    "\n",
    "\n",
    "cursor.execute(\"SELECT description FROM recipes WHERE name LIKE 'p%'\")\n",
    "d = cursor.fetchall()\n",
    "print(d)\n",
    "\n",
    "\n",
    "connection.commit()\n",
    "connection.close()"
   ]
  },
  {
   "cell_type": "code",
   "execution_count": 4,
   "id": "6cd0ead5",
   "metadata": {},
   "outputs": [
    {
     "name": "stdout",
     "output_type": "stream",
     "text": [
      "[('kgf2', 9.35), ('spiderman', 8.91), ('doctor strange', 9.569999999999999)]\n",
      "[(101, 'kgf2', 'action', 'hindi', 9.35), (103, 'doctor strange', 'mystic', 'english', 9.569999999999999)]\n",
      "[('kgf2', 9.35), ('doctor strange', 9.569999999999999)]\n"
     ]
    }
   ],
   "source": [
    "import sqlite3\n",
    "connection = sqlite3.connect('q2.db')\n",
    "cursor = connection.cursor()\n",
    "\n",
    "cursor.execute(\"CREATE TABLE movies (movie_id integer, movie_name text, genre text, language text, rating real)\")\n",
    "\n",
    "movies = [\n",
    "    (101, \"kgf2\", \"action\", \"hindi\", 8.5),\n",
    "    (102, \"spiderman\", \"superhero\", \"english\", 8.1),\n",
    "    (103, \"doctor strange\", \"mystic\", \"english\", 8.7),\n",
    "]\n",
    "\n",
    "cursor.executemany(\"INSERT INTO movies VALUES (?, ?, ?, ?, ?)\", movies)\n",
    "\n",
    "cursor.execute(\"UPDATE movies SET rating = (rating + (rating * 0.1))\")\n",
    "cursor.execute(\"SELECT movie_name, rating from movies\")\n",
    "movies = cursor.fetchall()\n",
    "print(movies)\n",
    "\n",
    "cursor.execute(\"DELETE from movies WHERE movie_id = 102\")\n",
    "cursor.execute(\"SELECT * FROM movies\")\n",
    "d = cursor.fetchall()\n",
    "print(d)\n",
    "\n",
    "cursor.execute(\"SELECT movie_name, rating FROM movies WHERE rating > 3\")\n",
    "r = cursor.fetchall()\n",
    "print(r)\n",
    "\n",
    "connection.commit()\n",
    "connection.close()"
   ]
  },
  {
   "cell_type": "code",
   "execution_count": 1,
   "id": "0ca40836",
   "metadata": {},
   "outputs": [
    {
     "name": "stdout",
     "output_type": "stream",
     "text": [
      "[(101, 1, 450, 2), (102, 2, 500, 3)]\n",
      "[(1, 'material ui', 450, 1, 5, 101), (2, 'tailwind css', 500, 2, 6, 102)]\n",
      "[(3,), (3,)]\n",
      "[(500,), (450,)]\n",
      "[('material ui', 1, 101), ('tailwind css', 2, 102)]\n"
     ]
    }
   ],
   "source": [
    "import sqlite3\n",
    "\n",
    "connection = sqlite3.connect('q3.db')\n",
    "cursor = connection.cursor()\n",
    "\n",
    "cursor.execute(\"\"\"CREATE TABLE orders (\n",
    "    order_id integer PRIMARY KEY,\n",
    "    product_id integer,\n",
    "    unit_price integer,\n",
    "    quantity integer\n",
    ")\"\"\")\n",
    "\n",
    "orders = [\n",
    "    (101, 1, 450, 2), \n",
    "    (102, 2, 500, 3)\n",
    "]\n",
    "\n",
    "cursor.executemany(\"INSERT INTO orders VALUES (?, ?, ?, ?)\", orders)\n",
    "\n",
    "cursor.execute(\"\"\"CREATE TABLE products (\n",
    "    product_id integer PRIMARY KEY,\n",
    "    product_name text,\n",
    "    unit_price integer,\n",
    "    supplier_id integer,\n",
    "    package integer,\n",
    "    order_id integer,\n",
    "    FOREIGN KEY (order_id) REFERENCES orders (order_id)\n",
    ")\"\"\")\n",
    "\n",
    "products = [\n",
    "    (1, \"material ui\", 450, 1, 5, 101),\n",
    "    (2, \"tailwind css\", 500, 2, 6, 102)\n",
    "]\n",
    "\n",
    "cursor.executemany(\"INSERT INTO products VALUES (?, ?, ?, ?, ?, ?)\", products)\n",
    "\n",
    "cursor.execute(\"SELECT * FROM orders\")\n",
    "orders = cursor.fetchall()\n",
    "cursor.execute(\"SELECT * FROM products\")\n",
    "products = cursor.fetchall()\n",
    "print(orders)\n",
    "\n",
    "print(products)\n",
    "\n",
    "\n",
    "cursor.execute(\"SELECT product.package-orde.quantity FROM products product, orders orde WHERE product.order_id = orde.order_id\")\n",
    "products = cursor.fetchall()\n",
    "print(products)\n",
    "\n",
    "cursor.execute(\"SELECT unit_price FROM products ORDER BY supplier_id DESC\")\n",
    "products = cursor.fetchall()\n",
    "print(products)\n",
    "\n",
    "cursor.execute(\"SELECT product_name, supplier_id, order_id FROM products\")\n",
    "products = cursor.fetchall()\n",
    "print(products)\n",
    "\n",
    "connection.commit()\n",
    "connection.close()"
   ]
  },
  {
   "cell_type": "code",
   "execution_count": 2,
   "id": "4eb2b4e1",
   "metadata": {},
   "outputs": [
    {
     "name": "stdout",
     "output_type": "stream",
     "text": [
      "[(1, 'sde', 4000000, 6000000), (2, 'waiter', 10000, 20000), (3, 'electrical engineer', 1000000, 2500000)]\n"
     ]
    }
   ],
   "source": [
    "import sqlite3\n",
    "connection = sqlite3.connect('q4.db')\n",
    "cursor = connection.cursor()\n",
    "\n",
    "cursor.execute(\"\"\"CREATE TABLE jobs (\n",
    "    job_id integer PRIMARY KEY,\n",
    "    job_title text,\n",
    "    min_salary integer,\n",
    "    max_salary integer\n",
    ")\"\"\")\n",
    "\n",
    "jobs = [\n",
    "    (1, \"sde\", 4000000, 6000000),\n",
    "    (2, \"waiter\", 10000, 20000),\n",
    "    (3, \"electrical engineer\", 1000000, 2500000)\n",
    "]\n",
    "\n",
    "cursor.executemany(\"INSERT INTO jobs VALUES (?, ?, ?, ?)\", jobs)\n",
    "\n",
    "cursor.execute(\"SELECT * FROM jobs\")\n",
    "jobs = cursor.fetchall()\n",
    "print(jobs)\n",
    "\n",
    "connection.commit()\n",
    "connection.close()"
   ]
  },
  {
   "cell_type": "code",
   "execution_count": 3,
   "id": "2031f261",
   "metadata": {},
   "outputs": [
    {
     "ename": "OperationalError",
     "evalue": "table jobs already exists",
     "output_type": "error",
     "traceback": [
      "\u001b[1;31m---------------------------------------------------------------------------\u001b[0m",
      "\u001b[1;31mOperationalError\u001b[0m                          Traceback (most recent call last)",
      "\u001b[1;32mc:\\Users\\arpan\\Desktop\\code\\lab4\\Lab 5.ipynb Cell 1'\u001b[0m in \u001b[0;36m<cell line: 5>\u001b[1;34m()\u001b[0m\n\u001b[0;32m      <a href='vscode-notebook-cell:/c%3A/Users/arpan/Desktop/code/lab4/Lab%205.ipynb#ch0000000?line=1'>2</a>\u001b[0m connection \u001b[39m=\u001b[39m sqlite3\u001b[39m.\u001b[39mconnect(\u001b[39m'\u001b[39m\u001b[39mq5.db\u001b[39m\u001b[39m'\u001b[39m)\n\u001b[0;32m      <a href='vscode-notebook-cell:/c%3A/Users/arpan/Desktop/code/lab4/Lab%205.ipynb#ch0000000?line=2'>3</a>\u001b[0m cursor \u001b[39m=\u001b[39m connection\u001b[39m.\u001b[39mcursor()\n\u001b[1;32m----> <a href='vscode-notebook-cell:/c%3A/Users/arpan/Desktop/code/lab4/Lab%205.ipynb#ch0000000?line=4'>5</a>\u001b[0m cursor\u001b[39m.\u001b[39;49mexecute(\u001b[39m\"\"\"\u001b[39;49m\u001b[39mCREATE TABLE jobs (\u001b[39;49m\n\u001b[0;32m      <a href='vscode-notebook-cell:/c%3A/Users/arpan/Desktop/code/lab4/Lab%205.ipynb#ch0000000?line=5'>6</a>\u001b[0m \u001b[39m    job_id integer PRIMARY KEY,\u001b[39;49m\n\u001b[0;32m      <a href='vscode-notebook-cell:/c%3A/Users/arpan/Desktop/code/lab4/Lab%205.ipynb#ch0000000?line=6'>7</a>\u001b[0m \u001b[39m    job_title text,\u001b[39;49m\n\u001b[0;32m      <a href='vscode-notebook-cell:/c%3A/Users/arpan/Desktop/code/lab4/Lab%205.ipynb#ch0000000?line=7'>8</a>\u001b[0m \u001b[39m    min_salary integer,\u001b[39;49m\n\u001b[0;32m      <a href='vscode-notebook-cell:/c%3A/Users/arpan/Desktop/code/lab4/Lab%205.ipynb#ch0000000?line=8'>9</a>\u001b[0m \u001b[39m    max_salary integer\u001b[39;49m\n\u001b[0;32m     <a href='vscode-notebook-cell:/c%3A/Users/arpan/Desktop/code/lab4/Lab%205.ipynb#ch0000000?line=9'>10</a>\u001b[0m \u001b[39m)\u001b[39;49m\u001b[39m\"\"\"\u001b[39;49m)\n\u001b[0;32m     <a href='vscode-notebook-cell:/c%3A/Users/arpan/Desktop/code/lab4/Lab%205.ipynb#ch0000000?line=11'>12</a>\u001b[0m jobs \u001b[39m=\u001b[39m [\n\u001b[0;32m     <a href='vscode-notebook-cell:/c%3A/Users/arpan/Desktop/code/lab4/Lab%205.ipynb#ch0000000?line=12'>13</a>\u001b[0m     (\u001b[39m1\u001b[39m, \u001b[39m\"\u001b[39m\u001b[39msde\u001b[39m\u001b[39m\"\u001b[39m, \u001b[39m4000000\u001b[39m, \u001b[39m6000000\u001b[39m),\n\u001b[0;32m     <a href='vscode-notebook-cell:/c%3A/Users/arpan/Desktop/code/lab4/Lab%205.ipynb#ch0000000?line=13'>14</a>\u001b[0m     (\u001b[39m2\u001b[39m, \u001b[39m\"\u001b[39m\u001b[39mwaiter\u001b[39m\u001b[39m\"\u001b[39m, \u001b[39m10000\u001b[39m, \u001b[39m20000\u001b[39m),\n\u001b[0;32m     <a href='vscode-notebook-cell:/c%3A/Users/arpan/Desktop/code/lab4/Lab%205.ipynb#ch0000000?line=14'>15</a>\u001b[0m     (\u001b[39m3\u001b[39m, \u001b[39m\"\u001b[39m\u001b[39melectrical engineer\u001b[39m\u001b[39m\"\u001b[39m, \u001b[39m1000000\u001b[39m, \u001b[39m2500000\u001b[39m)\n\u001b[0;32m     <a href='vscode-notebook-cell:/c%3A/Users/arpan/Desktop/code/lab4/Lab%205.ipynb#ch0000000?line=15'>16</a>\u001b[0m ]\n\u001b[0;32m     <a href='vscode-notebook-cell:/c%3A/Users/arpan/Desktop/code/lab4/Lab%205.ipynb#ch0000000?line=17'>18</a>\u001b[0m cursor\u001b[39m.\u001b[39mexecutemany(\u001b[39m\"\u001b[39m\u001b[39mINSERT INTO jobs VALUES (?, ?, ?, ?)\u001b[39m\u001b[39m\"\u001b[39m, jobs)\n",
      "\u001b[1;31mOperationalError\u001b[0m: table jobs already exists"
     ]
    }
   ],
   "source": [
    "import sqlite3\n",
    "connection = sqlite3.connect('q5.db')\n",
    "cursor = connection.cursor()\n",
    "\n",
    "cursor.execute(\"\"\"CREATE TABLE jobs (\n",
    "    job_id integer PRIMARY KEY,\n",
    "    job_title text,\n",
    "    min_salary integer,\n",
    "    max_salary integer\n",
    ")\"\"\")\n",
    "\n",
    "jobs = [\n",
    "    (1, \"sde\", 4000000, 6000000),\n",
    "    (2, \"waiter\", 10000, 20000),\n",
    "    (3, \"electrical engineer\", 1000000, 2500000)\n",
    "]\n",
    "\n",
    "cursor.executemany(\"INSERT INTO jobs VALUES (?, ?, ?, ?)\", jobs)\n",
    "\n",
    "cursor.execute(\"\"\"CREATE TABLE jobs_history (\n",
    "    employee_id integer,\n",
    "    start_date text,\n",
    "    end_date text,\n",
    "    department_id integer,\n",
    "    job_id integer,\n",
    "    FOREIGN KEY (job_id) REFERENCES jobs (job_id)\n",
    ")\"\"\")\n",
    "\n",
    "jobs_history = [\n",
    "    (1, \"2019-01-01\", \"2019-12-31\", 101, 1),\n",
    "    (2, \"2019-01-01\", \"2019-12-31\", 102, 2),\n",
    "    (3, \"2019-01-01\", \"2019-12-31\", 103, 3)\n",
    "]\n",
    "\n",
    "cursor.executemany(\"INSERT INTO jobs_history VALUES (?, ?, ?, ?, ?)\", jobs_history)\n",
    "\n",
    "cursor.execute(\"SELECT * FROM jobs\")\n",
    "jobs = cursor.fetchall()\n",
    "print(jobs)\n",
    "cursor.execute(\"SELECT * FROM jobs_history\")\n",
    "jobs_history = cursor.fetchall()\n",
    "print(jobs_history)\n",
    "\n",
    "connection.commit()\n",
    "connection.close()"
   ]
  },
  {
   "cell_type": "code",
   "execution_count": null,
   "id": "d434f85d",
   "metadata": {},
   "outputs": [],
   "source": []
  }
 ],
 "metadata": {
  "interpreter": {
   "hash": "ad2bdc8ecc057115af97d19610ffacc2b4e99fae6737bb82f5d7fb13d2f2c186"
  },
  "kernelspec": {
   "display_name": "Python 3 (ipykernel)",
   "language": "python",
   "name": "python3"
  },
  "language_info": {
   "codemirror_mode": {
    "name": "ipython",
    "version": 3
   },
   "file_extension": ".py",
   "mimetype": "text/x-python",
   "name": "python",
   "nbconvert_exporter": "python",
   "pygments_lexer": "ipython3",
   "version": "3.9.12"
  }
 },
 "nbformat": 4,
 "nbformat_minor": 5
}
